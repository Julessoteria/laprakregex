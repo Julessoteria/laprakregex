{
 "cells": [
  {
   "cell_type": "code",
   "execution_count": 1,
   "id": "32568d38",
   "metadata": {},
   "outputs": [
    {
     "name": "stdout",
     "output_type": "stream",
     "text": [
      "1945-08-17 selisih 28780 hari\n",
      "1785-11-11 selisih 87132 hari\n",
      "1783-06-08 selisih 88019 hari\n",
      "1889-05-02 selisih 49340 hari\n"
     ]
    }
   ],
   "source": [
    "import re\n",
    "from datetime import datetime\n",
    "\n",
    "text = \"\"\"\n",
    "Pada tanggal 1945-08-17 Indonesia merdeka. Indonesia memiliki beberapa pahlawan\n",
    "nasional, seperti Pangeran Diponegoro (TL: 1785-11-11), Pattimura (TL: 1783-06-08) dan Ki\n",
    "Hajar Dewantara (1889-05-02).\n",
    "\"\"\"\n",
    "\n",
    "now = datetime.now()\n",
    "\n",
    "dates = re.findall(r'\\d{4}-\\d{2}-\\d{2}', text)\n",
    "\n",
    "results = []\n",
    "for date in dates:\n",
    "    date_obj = datetime.strptime(date, '%Y-%m-%d')\n",
    "    formatted_date = date_obj.strftime('%d-%m-%Y')\n",
    "    delta_days = (now - date_obj).days\n",
    "    results.append(f\"{date} selisih {delta_days} hari\")\n",
    "\n",
    "for result in results:\n",
    "    print(result)\n"
   ]
  },
  {
   "cell_type": "code",
   "execution_count": 2,
   "id": "a07686e8",
   "metadata": {},
   "outputs": [
    {
     "name": "stdout",
     "output_type": "stream",
     "text": [
      "anton@mail.com username: anton , password: ZTr3XmXZ\n",
      "budi@gmail.co.id username: budi , password: r6ELmM5Y\n",
      "slamet@getnada.com username: slamet , password: KRPjudIG\n",
      "matahari@tokopedia.com username: matahari , password: 2q74CaN5\n"
     ]
    }
   ],
   "source": [
    "import re\n",
    "import random\n",
    "import string\n",
    "\n",
    "text = \"\"\"\n",
    "Berikut adalah daftar email dan nama pengguna dari mailing list:\n",
    "anton@mail.com dimiliki oleh antonius\n",
    "budi@gmail.co.id dimiliki oleh budi anwari\n",
    "slamet@getnada.com dimiliki oleh slamet slumut\n",
    "matahari@tokopedia.com dimiliki oleh toko matahari\n",
    "\"\"\"\n",
    "\n",
    "def generate_password(length=8):\n",
    "    characters = string.ascii_letters + string.digits\n",
    "    password = ''.join(random.choice(characters) for i in range(length))\n",
    "    return password\n",
    "\n",
    "emails = re.findall(r'\\b[A-Za-z0-9._%+-]+@[A-Za-z0-9.-]+\\.[A-Z|a-z]{2,}\\b', text)\n",
    "\n",
    "results = []\n",
    "for email in emails:\n",
    "    username = email.split('@')[0]\n",
    "    password = generate_password()\n",
    "    results.append(f\"{email} username: {username} , password: {password}\")\n",
    "\n",
    "for result in results:\n",
    "    print(result)\n"
   ]
  },
  {
   "cell_type": "code",
   "execution_count": null,
   "id": "1061cb1c",
   "metadata": {},
   "outputs": [],
   "source": []
  }
 ],
 "metadata": {
  "kernelspec": {
   "display_name": "Python 3 (ipykernel)",
   "language": "python",
   "name": "python3"
  },
  "language_info": {
   "codemirror_mode": {
    "name": "ipython",
    "version": 3
   },
   "file_extension": ".py",
   "mimetype": "text/x-python",
   "name": "python",
   "nbconvert_exporter": "python",
   "pygments_lexer": "ipython3",
   "version": "3.11.5"
  }
 },
 "nbformat": 4,
 "nbformat_minor": 5
}
